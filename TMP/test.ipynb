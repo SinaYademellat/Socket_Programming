{
 "cells": [
  {
   "cell_type": "code",
   "execution_count": 2,
   "metadata": {},
   "outputs": [
    {
     "data": {
      "text/plain": [
       "('00000101', str)"
      ]
     },
     "execution_count": 2,
     "metadata": {},
     "output_type": "execute_result"
    }
   ],
   "source": [
    "a = format(5, '08b')\n",
    "a , type(a)"
   ]
  },
  {
   "cell_type": "code",
   "execution_count": 5,
   "metadata": {},
   "outputs": [
    {
     "name": "stdout",
     "output_type": "stream",
     "text": [
      "5  ->  00000101\n",
      "8  ->  00001000\n"
     ]
    }
   ],
   "source": [
    "a , b , = 5 , 8\n",
    "print(a , ' -> ' , format(a, '08b'))\n",
    "print(b , ' -> ' , format(b, '08b'))"
   ]
  },
  {
   "cell_type": "code",
   "execution_count": 16,
   "metadata": {},
   "outputs": [],
   "source": [
    "def shwoBinaryIpV4(ipv4:str):\n",
    "    print(ipv4 , ': ',end='')\n",
    "    ipv4_ssplit = ipv4.split('.')\n",
    "    for index in range(3):\n",
    "        print(format(int(ipv4_ssplit[index]), '08b') ,end='.')\n",
    "    print(format(int(ipv4_ssplit[-1]), '08b'))\n",
    "    "
   ]
  },
  {
   "cell_type": "code",
   "execution_count": 19,
   "metadata": {},
   "outputs": [
    {
     "name": "stdout",
     "output_type": "stream",
     "text": [
      "5.8.222.255 : 00000101.00001000.11011110.11111111\n"
     ]
    }
   ],
   "source": [
    "A = '5.8.222.255'\n",
    "shwoBinaryIpV4(A)"
   ]
  },
  {
   "cell_type": "code",
   "execution_count": 10,
   "metadata": {},
   "outputs": [
    {
     "name": "stdout",
     "output_type": "stream",
     "text": [
      "00000101.00001000."
     ]
    }
   ],
   "source": [
    "# for i in (A):\n",
    "#     print(format(int(i), '08b') ,end='.')"
   ]
  },
  {
   "cell_type": "code",
   "execution_count": 2,
   "metadata": {},
   "outputs": [
    {
     "name": "stdout",
     "output_type": "stream",
     "text": [
      "['your', 'username']\n"
     ]
    }
   ],
   "source": [
    "txt = \"your username\"\n",
    "\n",
    "x = txt.split()\n",
    "\n",
    "print(x)"
   ]
  },
  {
   "cell_type": "markdown",
   "metadata": {},
   "source": [
    "# برس ارسال داده خام به کلاینت\n"
   ]
  },
  {
   "cell_type": "code",
   "execution_count": 2,
   "metadata": {},
   "outputs": [
    {
     "name": "stdout",
     "output_type": "stream",
     "text": [
      "shape: (10000, 100)\n"
     ]
    },
    {
     "data": {
      "text/plain": [
       "numpy.ndarray"
      ]
     },
     "execution_count": 2,
     "metadata": {},
     "output_type": "execute_result"
    }
   ],
   "source": [
    "import numpy as np\n",
    "import os\n",
    "\n",
    "def DataLoader(dataPath:str):\n",
    "    if not os.path.exists(dataPath):\n",
    "        print(f\"File not found: {dataPath}\")\n",
    "        return None\n",
    "    loaded_data = np.load(dataPath)\n",
    "    print('shape:', loaded_data.shape)\n",
    "    return loaded_data\n",
    "\n",
    "# if(__name__ == '__main__'):\n",
    "raw_data = DataLoader(dataPath='my_data.npy')\n",
    "type(raw_data)"
   ]
  },
  {
   "cell_type": "markdown",
   "metadata": {},
   "source": [
    "Normal"
   ]
  },
  {
   "cell_type": "code",
   "execution_count": 23,
   "metadata": {},
   "outputs": [
    {
     "data": {
      "text/plain": [
       "'778 664 897 299 588 683 419 523 718 897 92 666 241 687 387 962 904 152 608 273 300 246 271 520 722 37 647 104 785 620 968 525 667 143 3 133 948 57 775 749 186 30 494 578 318 534 28 917 744 293 793 700 112 257 425 855 483 568 959 222 443 673 536 27 246 960 105 89 226 102 775 54 23 838 397 5 596 905 59 928 85 507 703 537 290 174 627 742 706 55 879 10 969 630 472 702 269 800 436 77'"
      ]
     },
     "execution_count": 23,
     "metadata": {},
     "output_type": "execute_result"
    }
   ],
   "source": [
    "m = list(raw_data[0].data)\n",
    "\n",
    "result = ' '.join(str(n) for n in m)\n",
    "result"
   ]
  },
  {
   "cell_type": "markdown",
   "metadata": {},
   "source": [
    "نمونه برداری"
   ]
  },
  {
   "cell_type": "code",
   "execution_count": 21,
   "metadata": {},
   "outputs": [
    {
     "data": {
      "text/plain": [
       "array([778, 664, 897, 299, 588, 683, 419, 523, 718, 897,  92, 666, 241,\n",
       "       687, 387, 962, 904, 152, 608, 273, 300, 246, 271, 520, 722,  37,\n",
       "       647, 104, 785, 620, 968, 525, 667, 143,   3, 133, 948,  57, 775,\n",
       "       749, 186,  30, 494, 578, 318, 534,  28, 917, 744, 293, 793, 700,\n",
       "       112, 257, 425, 855, 483, 568, 959, 222, 443, 673, 536,  27, 246,\n",
       "       960, 105,  89, 226, 102, 775,  54,  23, 838, 397,   5, 596, 905,\n",
       "        59, 928,  85, 507, 703, 537, 290, 174, 627, 742, 706,  55, 879,\n",
       "        10, 969, 630, 472, 702, 269, 800, 436,  77], dtype=int32)"
      ]
     },
     "execution_count": 21,
     "metadata": {},
     "output_type": "execute_result"
    }
   ],
   "source": [
    "raw_data[0]"
   ]
  },
  {
   "cell_type": "code",
   "execution_count": 22,
   "metadata": {},
   "outputs": [
    {
     "data": {
      "text/plain": [
       "[np.int32(778),\n",
       " np.int32(897),\n",
       " np.int32(683),\n",
       " np.int32(523),\n",
       " np.int32(897),\n",
       " np.int32(666),\n",
       " np.int32(687),\n",
       " np.int32(962),\n",
       " np.int32(904),\n",
       " np.int32(608),\n",
       " np.int32(300),\n",
       " np.int32(520),\n",
       " np.int32(722),\n",
       " np.int32(647),\n",
       " np.int32(785),\n",
       " np.int32(968),\n",
       " np.int32(667),\n",
       " np.int32(133),\n",
       " np.int32(948),\n",
       " np.int32(775),\n",
       " np.int32(186),\n",
       " np.int32(578),\n",
       " np.int32(534),\n",
       " np.int32(917),\n",
       " np.int32(744),\n",
       " np.int32(793),\n",
       " np.int32(257),\n",
       " np.int32(855),\n",
       " np.int32(568),\n",
       " np.int32(959),\n",
       " np.int32(673),\n",
       " np.int32(536),\n",
       " np.int32(960),\n",
       " np.int32(105),\n",
       " np.int32(226),\n",
       " np.int32(775),\n",
       " np.int32(838),\n",
       " np.int32(397),\n",
       " np.int32(905),\n",
       " np.int32(928),\n",
       " np.int32(507),\n",
       " np.int32(703),\n",
       " np.int32(290),\n",
       " np.int32(742),\n",
       " np.int32(706),\n",
       " np.int32(879),\n",
       " np.int32(969),\n",
       " np.int32(702),\n",
       " np.int32(800),\n",
       " np.int32(436)]"
      ]
     },
     "execution_count": 22,
     "metadata": {},
     "output_type": "execute_result"
    }
   ],
   "source": [
    "m = raw_data[0]\n",
    "m.shape\n",
    "k = 2\n",
    "result = [max(m[i:i+k]) for i in range(0, len(m), k)]\n",
    "result"
   ]
  },
  {
   "cell_type": "markdown",
   "metadata": {},
   "source": [
    "خلاصه"
   ]
  },
  {
   "cell_type": "code",
   "execution_count": 27,
   "metadata": {},
   "outputs": [
    {
     "data": {
      "text/plain": [
       "'778 897 683 523 897 666 687 962 904 608 300 520 722 647 785 968 667 133 948 775 186 578 534 917 744 793 257 855 568 959 673 536 960 105 226 775 838 397 905 928 507 703 290 742 706 879 969 702 800 436'"
      ]
     },
     "execution_count": 27,
     "metadata": {},
     "output_type": "execute_result"
    }
   ],
   "source": [
    "m = raw_data[0]\n",
    "k = 2\n",
    "result = list( [max(m[i:i+k].data) for i in range(0, len(m), k)] )\n",
    "result = ' '.join(str(n) for n in result)\n",
    "result"
   ]
  }
 ],
 "metadata": {
  "kernelspec": {
   "display_name": "Python 3",
   "language": "python",
   "name": "python3"
  },
  "language_info": {
   "codemirror_mode": {
    "name": "ipython",
    "version": 3
   },
   "file_extension": ".py",
   "mimetype": "text/x-python",
   "name": "python",
   "nbconvert_exporter": "python",
   "pygments_lexer": "ipython3",
   "version": "3.10.1"
  }
 },
 "nbformat": 4,
 "nbformat_minor": 2
}
