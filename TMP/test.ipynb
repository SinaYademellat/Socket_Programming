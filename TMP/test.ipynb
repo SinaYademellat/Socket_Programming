{
 "cells": [
  {
   "cell_type": "code",
   "execution_count": 2,
   "metadata": {},
   "outputs": [
    {
     "data": {
      "text/plain": [
       "('00000101', str)"
      ]
     },
     "execution_count": 2,
     "metadata": {},
     "output_type": "execute_result"
    }
   ],
   "source": [
    "a = format(5, '08b')\n",
    "a , type(a)"
   ]
  },
  {
   "cell_type": "code",
   "execution_count": 5,
   "metadata": {},
   "outputs": [
    {
     "name": "stdout",
     "output_type": "stream",
     "text": [
      "5  ->  00000101\n",
      "8  ->  00001000\n"
     ]
    }
   ],
   "source": [
    "a , b , = 5 , 8\n",
    "print(a , ' -> ' , format(a, '08b'))\n",
    "print(b , ' -> ' , format(b, '08b'))"
   ]
  },
  {
   "cell_type": "code",
   "execution_count": 16,
   "metadata": {},
   "outputs": [],
   "source": [
    "def shwoBinaryIpV4(ipv4:str):\n",
    "    print(ipv4 , ': ',end='')\n",
    "    ipv4_ssplit = ipv4.split('.')\n",
    "    for index in range(3):\n",
    "        print(format(int(ipv4_ssplit[index]), '08b') ,end='.')\n",
    "    print(format(int(ipv4_ssplit[-1]), '08b'))\n",
    "    "
   ]
  },
  {
   "cell_type": "code",
   "execution_count": 19,
   "metadata": {},
   "outputs": [
    {
     "name": "stdout",
     "output_type": "stream",
     "text": [
      "5.8.222.255 : 00000101.00001000.11011110.11111111\n"
     ]
    }
   ],
   "source": [
    "A = '5.8.222.255'\n",
    "shwoBinaryIpV4(A)"
   ]
  },
  {
   "cell_type": "code",
   "execution_count": 10,
   "metadata": {},
   "outputs": [
    {
     "name": "stdout",
     "output_type": "stream",
     "text": [
      "00000101.00001000."
     ]
    }
   ],
   "source": [
    "# for i in (A):\n",
    "#     print(format(int(i), '08b') ,end='.')"
   ]
  },
  {
   "cell_type": "code",
   "execution_count": 2,
   "metadata": {},
   "outputs": [
    {
     "name": "stdout",
     "output_type": "stream",
     "text": [
      "['your', 'username']\n"
     ]
    }
   ],
   "source": [
    "txt = \"your username\"\n",
    "\n",
    "x = txt.split()\n",
    "\n",
    "print(x)"
   ]
  }
 ],
 "metadata": {
  "kernelspec": {
   "display_name": "Python 3",
   "language": "python",
   "name": "python3"
  },
  "language_info": {
   "codemirror_mode": {
    "name": "ipython",
    "version": 3
   },
   "file_extension": ".py",
   "mimetype": "text/x-python",
   "name": "python",
   "nbconvert_exporter": "python",
   "pygments_lexer": "ipython3",
   "version": "3.10.1"
  }
 },
 "nbformat": 4,
 "nbformat_minor": 2
}
